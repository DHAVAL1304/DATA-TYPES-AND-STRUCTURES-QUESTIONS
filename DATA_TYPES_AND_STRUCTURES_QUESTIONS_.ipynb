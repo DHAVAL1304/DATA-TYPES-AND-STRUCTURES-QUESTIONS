{
  "nbformat": 4,
  "nbformat_minor": 0,
  "metadata": {
    "colab": {
      "provenance": []
    },
    "kernelspec": {
      "name": "python3",
      "display_name": "Python 3"
    },
    "language_info": {
      "name": "python"
    }
  },
  "cells": [
    {
      "cell_type": "markdown",
      "source": [],
      "metadata": {
        "id": "cexABh_Fgl4j"
      }
    },
    {
      "cell_type": "markdown",
      "source": [
        "**Data Types and Structures Questions**\n",
        "\n",
        "Q-1 What are data structures, and why are they important?\n",
        "ANSWER\n",
        "A data structure is a specialized format for organizing, processing, retrieving and storing data. There are several basic and advanced types of data structures, all designed to arrange data to suit a specific purpose. Data structures make it easy for users to access and work with the data they need. Most importantly, data structures frame the organization of information so that machines and humans can better understand it.\n",
        "\n",
        "In computer science and computer programming, a data structure might be selected or designed to store data for the purpose of using it with various algorithms -- commonly referred to as data structures and algorithms (DSA). In some cases, the algorithm's basic operations are tightly coupled to the data structure's design. Each data structure contains information about the data values; relationships between the data; and, in some cases, functions that can be applied to the data.\n",
        "\n",
        "For instance, in an object-oriented programming language, the data structure and its associated methods are bound together as part of a class definition. In non-object-oriented languages, there might be functions defined to work with the data structure, but they aren't technically part of the data structure.\n",
        "\n",
        "Why are data structures important?\n",
        "Typical base data types, such as integers or floating-point values, that are available in most computer programming languages are generally insufficient to capture the logical intent for data processing and use. Yet applications that ingest, manipulate and produce information must understand how data should be organized to simplify processing. Data structures bring together the data elements in a logical way and facilitate the effective use, persistence and sharing of data. They provide a formal model that describes the way the data elements are organized.\n",
        "\n",
        "Data structures are the building blocks for more sophisticated applications. They're designed by composing data elements into a logical unit representing an abstract data type that has relevance to the algorithm or application. An example of an abstract data type is a customer name that's composed of the character strings for first name, middle name and last name.\n",
        "\n",
        "It's not only important to use data structures, but it's also important to choose the proper data structure for each task. Choosing an ill-suited data structure could result in slow runtimes or unresponsive code.\n",
        "\n",
        "Five factors to consider when picking a data structure include the following:\n",
        "\n",
        "What kind of information will be stored?\n",
        "How will that information be used?\n",
        "Where should data persist or be kept after it's created?\n",
        "What is the best way to organize the data?\n",
        "What aspects of memory and storage reservation management should be considered?"
      ],
      "metadata": {
        "id": "ds4DXOyNgn-o"
      }
    },
    {
      "cell_type": "code",
      "execution_count": null,
      "metadata": {
        "id": "wM25aVaggkGu"
      },
      "outputs": [],
      "source": []
    },
    {
      "cell_type": "markdown",
      "source": [
        "Q-2  Explain the difference between mutable and immutable data types with examples\n",
        "ANSWER\n",
        "In Python, Every variable in Python holds an instance of an object. There are two types of objects in Python i.e. Mutable and Immutable objects. Whenever an object is instantiated, it is assigned a unique object id. The type of the object is defined at the runtime and it can’t be changed afterward. However, its state can be changed if it is a mutable object.\n",
        "\n",
        "Mutable and Immutable Objects in Python\n",
        "Let us see what are Python’s Mutable vs Immutable Types in Python.\n",
        "\n",
        "Immutable Objects in Python\n",
        "Immutable Objects are of in-built datatypes like int, float, bool, string, Unicode, and tuple. In simple words, an immutable object can’t be changed after it is created.\n",
        "\n",
        "Example 1: In this example, we will take a tuple and try to modify its value at a particular index and print it. As a tuple is an immutable object, it will throw an error.when we try to modify it."
      ],
      "metadata": {
        "id": "afIf1BZthfUz"
      }
    },
    {
      "cell_type": "code",
      "source": [
        "# Python code to test that\n",
        "# tuples are immutable\n",
        "\n",
        "tuple1 = (0, 1, 2, 3)\n",
        "tuple1[0] = 4\n",
        "print(tuple1)\n"
      ],
      "metadata": {
        "colab": {
          "base_uri": "https://localhost:8080/",
          "height": 193
        },
        "id": "1QeRAlndji7s",
        "outputId": "fcc76ddd-0b2b-449f-f915-29d0b30e0a9f"
      },
      "execution_count": null,
      "outputs": [
        {
          "output_type": "error",
          "ename": "TypeError",
          "evalue": "'tuple' object does not support item assignment",
          "traceback": [
            "\u001b[0;31m---------------------------------------------------------------------------\u001b[0m",
            "\u001b[0;31mTypeError\u001b[0m                                 Traceback (most recent call last)",
            "\u001b[0;32m<ipython-input-1-fb6adb2ea50b>\u001b[0m in \u001b[0;36m<cell line: 0>\u001b[0;34m()\u001b[0m\n\u001b[1;32m      3\u001b[0m \u001b[0;34m\u001b[0m\u001b[0m\n\u001b[1;32m      4\u001b[0m \u001b[0mtuple1\u001b[0m \u001b[0;34m=\u001b[0m \u001b[0;34m(\u001b[0m\u001b[0;36m0\u001b[0m\u001b[0;34m,\u001b[0m \u001b[0;36m1\u001b[0m\u001b[0;34m,\u001b[0m \u001b[0;36m2\u001b[0m\u001b[0;34m,\u001b[0m \u001b[0;36m3\u001b[0m\u001b[0;34m)\u001b[0m\u001b[0;34m\u001b[0m\u001b[0;34m\u001b[0m\u001b[0m\n\u001b[0;32m----> 5\u001b[0;31m \u001b[0mtuple1\u001b[0m\u001b[0;34m[\u001b[0m\u001b[0;36m0\u001b[0m\u001b[0;34m]\u001b[0m \u001b[0;34m=\u001b[0m \u001b[0;36m4\u001b[0m\u001b[0;34m\u001b[0m\u001b[0;34m\u001b[0m\u001b[0m\n\u001b[0m\u001b[1;32m      6\u001b[0m \u001b[0mprint\u001b[0m\u001b[0;34m(\u001b[0m\u001b[0mtuple1\u001b[0m\u001b[0;34m)\u001b[0m\u001b[0;34m\u001b[0m\u001b[0;34m\u001b[0m\u001b[0m\n",
            "\u001b[0;31mTypeError\u001b[0m: 'tuple' object does not support item assignment"
          ]
        }
      ]
    },
    {
      "cell_type": "markdown",
      "source": [
        "Example 2: In this example, we will take a Python string and try to modify its value. Similar to the tuple, strings are immutable and will throw an error."
      ],
      "metadata": {
        "id": "9DaS4heGjtFD"
      }
    },
    {
      "cell_type": "code",
      "source": [
        "# Python code to test that\n",
        "# strings are immutable\n",
        "\n",
        "message = \"Welcome to GOOGLE COLAB\"\n",
        "message[0] = 'p'\n",
        "print(message)"
      ],
      "metadata": {
        "colab": {
          "base_uri": "https://localhost:8080/",
          "height": 193
        },
        "id": "JfXFQsM5jzZM",
        "outputId": "29689af2-ad74-489e-fd92-da71050d76dc"
      },
      "execution_count": null,
      "outputs": [
        {
          "output_type": "error",
          "ename": "TypeError",
          "evalue": "'str' object does not support item assignment",
          "traceback": [
            "\u001b[0;31m---------------------------------------------------------------------------\u001b[0m",
            "\u001b[0;31mTypeError\u001b[0m                                 Traceback (most recent call last)",
            "\u001b[0;32m<ipython-input-2-347373d4ebfd>\u001b[0m in \u001b[0;36m<cell line: 0>\u001b[0;34m()\u001b[0m\n\u001b[1;32m      3\u001b[0m \u001b[0;34m\u001b[0m\u001b[0m\n\u001b[1;32m      4\u001b[0m \u001b[0mmessage\u001b[0m \u001b[0;34m=\u001b[0m \u001b[0;34m\"Welcome to GOOGLE COLAB\"\u001b[0m\u001b[0;34m\u001b[0m\u001b[0;34m\u001b[0m\u001b[0m\n\u001b[0;32m----> 5\u001b[0;31m \u001b[0mmessage\u001b[0m\u001b[0;34m[\u001b[0m\u001b[0;36m0\u001b[0m\u001b[0;34m]\u001b[0m \u001b[0;34m=\u001b[0m \u001b[0;34m'p'\u001b[0m\u001b[0;34m\u001b[0m\u001b[0;34m\u001b[0m\u001b[0m\n\u001b[0m\u001b[1;32m      6\u001b[0m \u001b[0mprint\u001b[0m\u001b[0;34m(\u001b[0m\u001b[0mmessage\u001b[0m\u001b[0;34m)\u001b[0m\u001b[0;34m\u001b[0m\u001b[0;34m\u001b[0m\u001b[0m\n",
            "\u001b[0;31mTypeError\u001b[0m: 'str' object does not support item assignment"
          ]
        }
      ]
    },
    {
      "cell_type": "code",
      "source": [],
      "metadata": {
        "id": "Wj-8nN94kNHr"
      },
      "execution_count": null,
      "outputs": []
    },
    {
      "cell_type": "markdown",
      "source": [
        "Mutable Objects in Python\n",
        "Mutable Objects are of type Python list, Python dict, or Python set. Custom classes are generally mutable.\n",
        "\n",
        "Are Lists Mutable in Python?\n",
        "Yes, Lists are mutable in Python. We can add or remove elements from the list. In Python, mutability refers to the capability of an object to be changed or modified after its creation.\n",
        "\n",
        "In Python, lists are a widely used data structure that allows the storage and manipulation of a collection of items. One of the key characteristics of lists is their mutability, which refers to the ability to modify the list after it has been created.\n",
        "\n",
        "Example 1: Add and Remove items from a list in Python\n",
        "\n",
        "In this example, we will take a Python List object and try to modify its value using the index. A list in Python is mutable, that is, it allows us to change its value once it is created. Lists have the ability to add and remove elements dynamically. Lists provide methods such as append(),insert(),extend(),remove() and pop()."
      ],
      "metadata": {
        "id": "F-AL2iCEkPk9"
      }
    },
    {
      "cell_type": "code",
      "source": [
        "my_list = [1, 2, 3]\n",
        "my_list.append(4)\n",
        "print(my_list)\n",
        "\n",
        "my_list.insert(1, 5)\n",
        "print(my_list)\n",
        "\n",
        "my_list.remove(2)\n",
        "print(my_list)\n",
        "\n",
        "popped_element = my_list.pop(0)\n",
        "print(my_list)\n",
        "print(popped_element)"
      ],
      "metadata": {
        "colab": {
          "base_uri": "https://localhost:8080/"
        },
        "id": "QOR2e7BVkRQw",
        "outputId": "f919c5d9-b34a-42c9-eacc-9b206ed0603f"
      },
      "execution_count": null,
      "outputs": [
        {
          "output_type": "stream",
          "name": "stdout",
          "text": [
            "[1, 2, 3, 4]\n",
            "[1, 5, 2, 3, 4]\n",
            "[1, 5, 3, 4]\n",
            "[5, 3, 4]\n",
            "1\n"
          ]
        }
      ]
    },
    {
      "cell_type": "code",
      "source": [],
      "metadata": {
        "id": "a0kQwylTkcbk"
      },
      "execution_count": null,
      "outputs": []
    },
    {
      "cell_type": "markdown",
      "source": [
        "Example 2: Modify item from a dictionary in Python\n",
        "\n",
        "Here is an example of dictionary that are mutable i.e., we can make changes in the Dictionary."
      ],
      "metadata": {
        "id": "Eus4iTZDkfYW"
      }
    },
    {
      "cell_type": "code",
      "source": [
        "my_dict = {\"name\": \"Ram\", \"age\": 25}\n",
        "new_dict = my_dict\n",
        "new_dict[\"age\"] = 37\n",
        "\n",
        "print(my_dict)\n",
        "print(new_dict)"
      ],
      "metadata": {
        "colab": {
          "base_uri": "https://localhost:8080/"
        },
        "id": "qDZPlu2-khKJ",
        "outputId": "cf4f34a7-b5aa-4690-91c1-c10c5c5d8296"
      },
      "execution_count": null,
      "outputs": [
        {
          "output_type": "stream",
          "name": "stdout",
          "text": [
            "{'name': 'Ram', 'age': 37}\n",
            "{'name': 'Ram', 'age': 37}\n"
          ]
        }
      ]
    },
    {
      "cell_type": "markdown",
      "source": [
        "**Python’s Mutable vs Immutable**\n",
        "1 Mutable and immutable objects are handled differently in Python. Immutable objects are quicker to access and are expensive to change because it involves the creation of a copy. Whereas mutable objects are easy to change.\n",
        " 2 The use of mutable objects is recommended when there is a need to change the size or content of the object.\n",
        "\n",
        "The tuple consists of a string and a list. Strings are immutable so we can’t change their value. But the contents of the list can change. The tuple itself isn’t mutable but contains items that are mutable. As a rule of thumb, generally, Primitive-like types are probably immutable, and Customized Container-like types are mostly mutable.\n",
        "\n",
        "\n",
        "Q-3 What are the main differences between lists and tuples in Python?\n",
        "\n",
        "ANSWER\n",
        " Python, lists and tuples both store collections of data, but differ in mutability, performance and memory usage. Lists are mutable, allowing modifications, while tuples are immutable. Choosing between them depends on whether you need to modify the data or prioritize performance and memory efficiency.\n",
        "\n",
        "\n",
        "\n",
        "1\tLists are mutable(can be modified).and  Tuples are immutable(cannot be modified).\n",
        "2\tIteration over lists is time-consuming. and   \tIterations over tuple is faster\n",
        "3\tLists are better for performing operations,and  such as insertion and deletion.\tTuples are more suitable for accessing elements efficiently.\n",
        "4\tLists consume more memory.and \tTuples consumes less memory\n",
        "5\tLists have several built-in methods.and \tTuples have fewer built-in methods.\n",
        "6\tLists are more prone to unexpected changes and errors.and \tTuples, being immutable are less error prone.\n",
        "Q-4  Describe how dictionaries store data.\n",
        "\n",
        "ANSWER\n",
        "\n",
        "Dictionaries are used to store data values in key:value pairs.\n",
        "\n",
        "A dictionary is a collection which is ordered*, changeable and do not allow duplicates.\n",
        "\n",
        "As of Python version 3.7, dictionaries are ordered. In Python 3.6 and earlier, dictionaries are unordered.\n",
        "\n",
        "Dictionaries are written with curly brackets, and have keys and values:\n"
      ],
      "metadata": {
        "id": "ucKJTN5Tk2Qj"
      }
    },
    {
      "cell_type": "code",
      "source": [
        "thisdict = {\n",
        "  \"brand\": \"Ford\",\n",
        "  \"model\": \"Mustang\",\n",
        "  \"year\": 1964\n",
        "}\n",
        "print(thisdict)\n"
      ],
      "metadata": {
        "colab": {
          "base_uri": "https://localhost:8080/"
        },
        "id": "1R-M25dLoHW6",
        "outputId": "cd6370bf-b850-4323-8d1b-c75b2fd00447"
      },
      "execution_count": null,
      "outputs": [
        {
          "output_type": "stream",
          "name": "stdout",
          "text": [
            "{'brand': 'Ford', 'model': 'Mustang', 'year': 1964}\n"
          ]
        }
      ]
    },
    {
      "cell_type": "markdown",
      "source": [
        "Dictionary Items\n",
        "Dictionary items are ordered, changeable, and do not allow duplicates.\n",
        "\n",
        "Dictionary items are presented in key:value pairs, and can be referred to by using the key name."
      ],
      "metadata": {
        "id": "D4VqdhdjoOyo"
      }
    },
    {
      "cell_type": "code",
      "source": [
        "thisdict = {\n",
        "  \"brand\": \"Ford\",\n",
        "  \"model\": \"Mustang\",\n",
        "  \"year\": 1964\n",
        "}\n",
        "print(thisdict[\"brand\"])"
      ],
      "metadata": {
        "colab": {
          "base_uri": "https://localhost:8080/"
        },
        "id": "DW9w8e-ToQnj",
        "outputId": "51ab9114-8022-45d8-e616-ffcc65d603f0"
      },
      "execution_count": null,
      "outputs": [
        {
          "output_type": "stream",
          "name": "stdout",
          "text": [
            "Ford\n"
          ]
        }
      ]
    },
    {
      "cell_type": "markdown",
      "source": [
        " Q-5 Why might you use a set instead of a list in Python?\n",
        "\n",
        " ANSWER\n",
        "\n",
        " Lists and tuples are standard Python data types that store values in a sequence. Sets are another standard Python data type that also store values. The major difference is that sets, unlike lists or tuples, cannot have multiple occurrences of the same element and store unordered values.\n",
        "\n",
        "Advantages of a Python Set\n",
        "Because sets cannot have multiple occurrences of the same element, it makes sets highly useful to efficiently remove duplicate values from a list or tuple and to perform common math operations like unions and intersections.\n",
        "\n",
        "Q-6\n",
        " What is a string in Python, and how is it different from a list?\n",
        "\n",
        " ANSWER\n",
        "\n",
        " In Python, strings are used for representing textual data. A string is a sequence of characters enclosed in either single quotes (‘’) or double quotes (“”). The Python language provides various built-in methods and functionalities to work with strings efficiently.\n",
        "\n",
        " Strings are immutable, meaning they cannot be changed once created, while lists are mutable and can be modified as needed.\n",
        "\n",
        "3) Operations like concatenation (+) and repetition (*) work differently for strings and lists. Concatenating strings will merge them together, while concatenating lists will combine their elements.\n",
        "\n",
        "4) String methods like upper(), lower(), and replace() are tailored for text processing, while list methods like append(), remove(), and sort(), and copy() are specific to working with collections of items.\n",
        "\n",
        "5) Strings can be indexed and sliced to access individual characters or substrings, while lists can be accessed using indices to retrieve or modify elements.\n",
        "\n",
        "6) Strings have a fixed length, while lists can dynamically grow or shrink in size by adding or removing elements.\n",
        "\n",
        "7) List comprehension is a powerful feature in Python for creating lists based on existing iterables, while there is no direct equivalent for strings.\n",
        "\n",
        "8) Strings are useful for representing textual data, while lists are versatile data structures that can store different types of elements.\n",
        "\n",
        "9) String formatting allows for creating formatted output using placeholders, while lists can be formatted directly by converting them to strings.\n",
        "\n",
        "10) Both strings and lists are iterable objects in Python, allowing for easy iteration over their elements using loops or comprehension techniques.\n",
        "\n",
        "Q-7\n",
        "\n",
        " How do tuples ensure data integrity in Python?\n",
        " ANSWER\n",
        " Tuples are immutable to ensure that their contents remain constant throughout their lifecycle, guaranteeing data integrity and reliability. This immutability allows tuples to be used as keys in dictionaries and elements in sets, as they can be hashed. Additionally, immutability can lead to performance optimizations, as Python can store and access tuples more efficiently than mutable data structures like lists.\n",
        "\n",
        " Q-8\n",
        "\n",
        " What is a hash table, and how does it relate to dictionaries in Python?\n",
        "\n",
        "ANSWER\n",
        "A hash table is a data structure that stores a collection of items in key-value pairs. In this example, lasagna would be the key, and the price would be the value. Almost every programming language has a built-in hash table known as hashes, hash maps, dictionaries, or associative arrays.\n",
        "\n",
        "Relationship:\n",
        "1 Hash tables are a common and efficient way to implement the concept of a dictionary.\n",
        "2 While the term \"dictionary\" is more abstract, \"hash table\" refers to a specific data structure used to implement that abstract concept.\n",
        "3 Other implementations of dictionaries, such as red-black trees, can also be used, but hash tables are often the preferred choice due to their performance advantages.\n",
        " Q-9\n",
        "  Can lists contain different data types in Python?\n",
        "\n",
        "  ANSWER\n",
        "\n",
        "  Lists in Python are implemented as dynamic mutable arrays which hold an ordered collection of items.\n",
        "\n",
        "First, in many programming languages, arrays are data structures that contain a collection of elements of the same data types (for instance, all elements are integers). However, in Python, lists can contain heterogeneous data types and objects. For instance, integers, strings, and even functions can be stored within the same list. Different elements of a list can be accessed by integer indices where the first element of a list has the index of 0. This property derives from the fact that in Python, lists are ordered, which means they retain the order in which you insert the elements into the list.\n",
        "\n",
        "Next, we can arbitrarily add, remove, and change elements in the list. For instance, the .append() method adds a new element to a list, and the .remove() method removes an element from a list. Furthermore, by accessing a list's element by index, we can change it to another element. For more detail on different list methods, please refer to the documentation.\n",
        "\n",
        "Finally, when creating a list, we do not have to specify in advance the number of elements it will contain; therefore, it can be expanded as we wish, making it dynamic.\n",
        "\n",
        "Lists are useful when we want to store a collection of different data types and subsequently add, remove, or perform operations on each element of the list (by looping through them). Furthermore, lists are useful to store other data structures (and even other lists) by creating, for instance, lists of dictionaries, tuples, or lists. It is very common to store a table as a list of lists (where each inner list represents a table's column) for subsequent data analysis.\n",
        "\n",
        "Q-10  Explain why strings are immutable in Python?\n",
        "\n",
        "ANSWER\n",
        "Strings in Python are “immutable” which means they can not be changed after they are created. Some other immutable data types are integers, float, boolean, etc.\n",
        "\n",
        "The immutability of Python string is very useful as it helps in hashing, performance optimization, safety, ease of use, etc.\n",
        "\n",
        "Immutability is the property of an object according to which we can not change the object after we declared or after the creation of it and this Immutability in the case of the string is known as string immutability in Python.\n",
        "\n",
        "Q-11  What advantages do dictionaries offer over lists for certain tasks?\n",
        "\n",
        "ANSWER\n",
        "\n",
        "Dictionaries provide faster lookups compared to lists when searching by key, as they have an average complexity of O(1), while lists require O(n) in the worst case.\n",
        "\n",
        "For large-scale searches and deletions, dictionaries outperform lists.\n",
        "\n",
        "A dictionary has several advantages over a list especially in python. Dictionarys have two parts to every entry the key and the value and these are stored as pairs. This can give you more flexibility when storing data. The primary advantage would be retrieving stored values as it is much simpler to search through a dictionary.If the data your trying to store is identifiable so the data can be attributed to name name or item this might be a preferable system. One example would be storing the age of school students. You could store the age and name as a value and key pair. This would allow you to sort the dictionary for a particular student and retrieve their age. To do this with lists you would require two lists to search through or a very complicated indexing systems.\n",
        "\n",
        "Q-12\n",
        "\n",
        " Describe a scenario where using a tuple would be preferable over a list\n",
        "\n",
        " ANSWER\n",
        "  \n",
        "  There may be some occasions when you don’t want your data to be changed. If you have data that’s not meant to be changed in the first place — such as critical information or records — you should choose tuple data type over lists.\n",
        "\n",
        "   Q-13  How do sets handle duplicate values in Python?\n",
        "   answer\n",
        "Set is a data type in python used to store several items in a single variable. It is one of the four built-in data types (List, Dictionary, Tuple, and Set) having qualities and usage different from the other three. It is a collection that is written with curly brackets and is both unindexed and unordered.\n",
        "\n",
        "A set is mutable, i.e., we can remove or add elements to it. Set in python is similar to mathematical sets, and operations like intersection, union, symmetric difference, and more can be applied.\n",
        "\n",
        "\n"
      ],
      "metadata": {
        "id": "llYMQUexok3T"
      }
    },
    {
      "cell_type": "code",
      "source": [],
      "metadata": {
        "id": "Y2yMylvdieCa"
      },
      "execution_count": null,
      "outputs": []
    },
    {
      "cell_type": "code",
      "source": [],
      "metadata": {
        "id": "KDpXeNJjjRod"
      },
      "execution_count": null,
      "outputs": []
    },
    {
      "cell_type": "markdown",
      "source": [
        "Q-14 How does the “in” keyword work differently for lists and dictionaries.\n",
        "\n",
        "The in keyword in Python is a powerful operator used for membership testing and iteration. It helps determine whether an element exists within a given sequence, such as a list, tuple, string, set or dictionary."
      ],
      "metadata": {
        "id": "nXGP0wttitPy"
      }
    },
    {
      "cell_type": "markdown",
      "source": [],
      "metadata": {
        "id": "Dz86bVqyodCC"
      }
    },
    {
      "cell_type": "code",
      "source": [
        "s = \"TICK FOR TAC\"\n",
        "\n",
        "if \"for\" in s:\n",
        "    print(\"found\")\n",
        "else:\n",
        "    print(\"not found\")"
      ],
      "metadata": {
        "colab": {
          "base_uri": "https://localhost:8080/"
        },
        "id": "Ll5rOYHEjTTP",
        "outputId": "6c2ee67f-1934-4e0c-a72d-87099bac1595"
      },
      "execution_count": null,
      "outputs": [
        {
          "output_type": "stream",
          "name": "stdout",
          "text": [
            "not found\n"
          ]
        }
      ]
    },
    {
      "cell_type": "markdown",
      "source": [
        "Explanation: if “for” in s checks if the substring “for” exists in the string s using the in keyword, which performs a membership test.\n",
        "\n",
        "Purpose of the in keyword\n",
        "The in keyword in Python serves two primary purposes:\n",
        "\n",
        "Membership Testing: To check if a value exists in a sequence such as a list, tuple, set, range, dictionary or string.\n",
        "Iteration: To iterate through elements of a sequence in a for loop.\n",
        "\n",
        "Q 15  Can you modify the elements of a tuple? Explain why or why not\n",
        "\n",
        "answer\n",
        "\n",
        "Tuples are unchangeable, meaning that you cannot change, add, or remove items once the tuple is created.\n",
        "\n",
        "But there are some workarounds.\n",
        "\n",
        "Change Tuple Values\n",
        "Once a tuple is created, you cannot change its values. Tuples are unchangeable, or immutable as it also is called.\n",
        "\n",
        "But there is a workaround. You can convert the tuple into a list, change the list, and convert the list back into a tuple."
      ],
      "metadata": {
        "id": "ml2ZSKDLjVYP"
      }
    },
    {
      "cell_type": "code",
      "source": [
        "x = (\"apple\", \"banana\", \"cherry\")\n",
        "y = list(x)\n",
        "y[1] = \"kiwi\"\n",
        "x = tuple(y)\n",
        "\n",
        "print(x)"
      ],
      "metadata": {
        "colab": {
          "base_uri": "https://localhost:8080/"
        },
        "id": "m-fo-qSTlwfZ",
        "outputId": "bbd1bb41-e499-4295-b8de-026c3ec68607"
      },
      "execution_count": null,
      "outputs": [
        {
          "output_type": "stream",
          "name": "stdout",
          "text": [
            "('apple', 'kiwi', 'cherry')\n"
          ]
        }
      ]
    },
    {
      "cell_type": "markdown",
      "source": [
        "Add Items\n",
        "Since tuples are immutable, they do not have a built-in append() method, but there are other ways to add items to a tuple.\n",
        "\n",
        "1. Convert into a list: Just like the workaround for changing a tuple, you can convert it into a list, add your item(s), and convert it back into a tuple.\n"
      ],
      "metadata": {
        "id": "iNQxIpFPl3eH"
      }
    },
    {
      "cell_type": "code",
      "source": [
        "thistuple = (\"apple\", \"banana\", \"cherry\")\n",
        "y = list(thistuple)\n",
        "y.append(\"orange\")\n",
        "thistuple = tuple(y)"
      ],
      "metadata": {
        "id": "vYadQaNkl5Rq"
      },
      "execution_count": null,
      "outputs": []
    },
    {
      "cell_type": "markdown",
      "source": [
        "Q 16 What is a nested dictionary, and give an example of its use case?\n",
        "\n",
        "ANS\n",
        "A nested dictionary in Python is a dictionary where the values are themselves dictionaries. This allows for representing hierarchical or multi-layered data structures. A use case for nested dictionaries is organizing employee records, where you might store each employee's information (name, job title, etc.) as a nested dictionary, grouped by department."
      ],
      "metadata": {
        "id": "SyBXvxASmYlH"
      }
    },
    {
      "cell_type": "code",
      "source": [
        "employees = {\n",
        "    \"sales\": {\n",
        "        \"DHAVAL\": {\"name\": \"DHAVAL THAKKAR\", \"job\": \"Sales Manager\"},\n",
        "        \"AAKASH\": {\"name\": \"AAKASH\", \"job\": \"Sales Representative\"}\n",
        "    },\n",
        "    \"marketing\": {\n",
        "        \"MUKESH\": {\"name\": \"MUKESH\", \"job\": \"Marketing Manager\"},\n",
        "        \"SURESH\": {\"name\": \"SURESH\", \"job\": \"Marketing Assistant\"}\n",
        "    }\n",
        "}"
      ],
      "metadata": {
        "id": "vSUy_Srbmx_U"
      },
      "execution_count": null,
      "outputs": []
    },
    {
      "cell_type": "markdown",
      "source": [],
      "metadata": {
        "id": "6HSE9yqkmBJu"
      }
    },
    {
      "cell_type": "markdown",
      "source": [
        "In this example, the employees dictionary contains two keys (\"sales\" and \"marketing\"). The values associated with these keys are themselves dictionaries, each containing the employee details (name and job). This nested structure allows you to easily access and manage employee data organized by department\n",
        "\n",
        "Q 17  Describe the time complexity of accessing elements in a dictionary?\n",
        "\n",
        "ANS\n",
        "\n",
        "The time complexity of dictionary operations in Python depends on the size of the dictionary and the specific operation being performed. Here’s a summary of the time complexity of some common dictionary operations:\n",
        "\n",
        "Accessing a value by key: O(1) on average, O(n) worst case if there are many collisions\n",
        "Adding a key-value pair: O(1) on average, O(n) worst case if the dictionary needs to be resized\n",
        "Modifying a value by key: O(1) on average, O(n) worst case if there are many collisions\n",
        "Removing a key-value pair by key: O(1) on average, O(n) worst case if there are many collisions\n",
        "Iterating over the keys, values, or items: O(n), where n is the number of key-value pairs in the dictionary.\n",
        "The space complexity of a dictionary is O(n), where n is the number of key-value pairs in the dictionary. This is because a dictionary stores each key-value pair as a separate object in memory.\n",
        "\n",
        "Q 18  In what situations are lists preferred over dictionaries?\n",
        "ANSWER\n",
        "Choose the right data structure based on your specific needs:\n",
        "\n",
        "For quick data look-ups, configurations, or caches, favor dictionaries.\n",
        "\n",
        "For ordered collections and sequence operations, such as maintaining a stack or queue, lists are more suitable.\n",
        "\n",
        "Q 19  Why are dictionaries considered unordered, and how does that affect data retrieval?\n",
        "\n",
        "ANSWER\n",
        "\n",
        "A dictionary is termed an unordered collection of objects because dictionaries do not maintain any inherent order of the items based on when they were added. In older versions of Python (before 3.7), dictionaries did not preserve insertion order at all. This meant that when you accessed or printed the items, the order could vary, as dictionaries were optimized for fast lookups rather than maintaining order.\n",
        "\n",
        "Starting from Python 3.7, dictionaries do retain insertion order as an implementation detail, meaning elements appear in the order they were added when you print or iterate over them. However, they are still called \"unordered\" because their primary function is fast key-based access, and they are not intended to be used as ordered collections like lists or tuples. So even though they appear ordered in Python 3.7+, the emphasis is still on key-value mapping rather than sequence.\n",
        "\n",
        "Q 20  Explain the difference between a list and a dictionary in terms of data retrieval.\n",
        "\n",
        "ANS\n",
        "In terms of data retrieval, lists access elements by numerical index, while dictionaries access elements by unique keys. Lists are ordered, so accessing elements by position is efficient. Dictionaries are unordered but provide fast lookup times based on keys.\n",
        "\n",
        "Lists:\n",
        "Access Method:\n",
        "\n",
        "Elements are accessed using numerical indices, starting from 0. For example, my_list[2] retrieves the third element in the list.\n",
        "Order:\n",
        "\n",
        "Lists maintain the order of elements, so the first element will always be at index 0, the second at index 1, and so on.\n",
        "Time Complexity:\n",
        "\n",
        "Accessing elements by index in a list is generally an O(1) operation (constant time). However, searching for an element by its value can take O(n) time in the worst case (linear time) if the list is large.\n",
        "\n",
        "Dictionaries:\n",
        "Access Method:\n",
        "\n",
        "Elements are accessed using unique, immutable keys. For example, my_dict[\"name\"] retrieves the value associated with the key \"name\".\n",
        "Order:\n",
        "\n",
        "Dictionaries are unordered in Python versions prior to 3.7. However, starting with Python 3.7, dictionaries maintain insertion order, says Enki.\n",
        "Time Complexity:\n",
        "\n",
        "Accessing eleme\n",
        "nts by key in a dictionary is generally an O(1) operation (constant time) due to the use of hash tables.\n",
        "\n",
        "            PRACTICAL QUESTION\n",
        "\n",
        "Q-1 Write a code to create a string with your name and print it\n",
        "\n",
        "\n"
      ],
      "metadata": {
        "id": "6T9RxOpjnXO2"
      }
    },
    {
      "cell_type": "code",
      "source": [
        "# create a string using double quotes\n",
        "string1 = \"DHAVAL THAKKAR\"\n",
        "print(string1)\n"
      ],
      "metadata": {
        "colab": {
          "base_uri": "https://localhost:8080/"
        },
        "id": "gNmySo7Ksm7u",
        "outputId": "63d794a2-4c89-4305-c6a4-d4ee3ee78016"
      },
      "execution_count": null,
      "outputs": [
        {
          "output_type": "stream",
          "name": "stdout",
          "text": [
            "DHAVAL THAKKAR\n"
          ]
        }
      ]
    },
    {
      "cell_type": "markdown",
      "source": [],
      "metadata": {
        "id": "x6zR_OpetVZG"
      }
    },
    {
      "cell_type": "markdown",
      "source": [
        "Q-2  Write a code to find the length of the string \"Hello World\"."
      ],
      "metadata": {
        "id": "4-opwTiqtuTi"
      }
    },
    {
      "cell_type": "code",
      "source": [
        "string = \"Hello World\"\n",
        "length = len(string)\n",
        "print(length)"
      ],
      "metadata": {
        "colab": {
          "base_uri": "https://localhost:8080/"
        },
        "id": "A3qMKbESt3ad",
        "outputId": "1a3b1e00-e6e3-4ccb-9706-f462f3f0ea7d"
      },
      "execution_count": null,
      "outputs": [
        {
          "output_type": "stream",
          "name": "stdout",
          "text": [
            "11\n"
          ]
        }
      ]
    },
    {
      "cell_type": "markdown",
      "source": [
        "Q 3 Write a code to slice the first 3 characters from the string \"Python Programming\""
      ],
      "metadata": {
        "id": "DWos57Z_uJ8h"
      }
    },
    {
      "cell_type": "code",
      "source": [
        "s = \"Python Programming\"\n",
        "\n",
        "print(s[0:3])"
      ],
      "metadata": {
        "colab": {
          "base_uri": "https://localhost:8080/"
        },
        "id": "sfoCOU-SusIH",
        "outputId": "6038ac53-43d2-4ad0-badd-9100b989b574"
      },
      "execution_count": null,
      "outputs": [
        {
          "output_type": "stream",
          "name": "stdout",
          "text": [
            "Pyt\n"
          ]
        }
      ]
    },
    {
      "cell_type": "code",
      "source": [],
      "metadata": {
        "id": "EULLdw1GuQ6g"
      },
      "execution_count": null,
      "outputs": []
    },
    {
      "cell_type": "markdown",
      "source": [
        "Q 4  Write a code to convert the string \"hello\" to uppercase."
      ],
      "metadata": {
        "id": "ngF30HEpvEvA"
      }
    },
    {
      "cell_type": "code",
      "source": [
        "s = \"hello\"\n",
        "res = s.upper()\n",
        "print(res)"
      ],
      "metadata": {
        "colab": {
          "base_uri": "https://localhost:8080/"
        },
        "id": "PMIqG5fAvRC1",
        "outputId": "55282b7a-d7e3-496c-f87d-c35bb32e1fed"
      },
      "execution_count": null,
      "outputs": [
        {
          "output_type": "stream",
          "name": "stdout",
          "text": [
            "HELLO\n"
          ]
        }
      ]
    },
    {
      "cell_type": "markdown",
      "source": [
        "Q 5  Write a code to replace the word \"apple\" with \"orange\" in the string \"I like apple\"."
      ],
      "metadata": {
        "id": "Sv3l33Fuvx1g"
      }
    },
    {
      "cell_type": "code",
      "source": [
        "txt = \"I like apple\"\n",
        "\n",
        "x = txt.replace(\"apple\", \"orange\")\n",
        "\n",
        "print(x)\n"
      ],
      "metadata": {
        "colab": {
          "base_uri": "https://localhost:8080/"
        },
        "id": "X7y5BvJsv6jX",
        "outputId": "ad461392-472d-4549-a6fb-152b29a25b09"
      },
      "execution_count": null,
      "outputs": [
        {
          "output_type": "stream",
          "name": "stdout",
          "text": [
            "I like orange\n"
          ]
        }
      ]
    },
    {
      "cell_type": "markdown",
      "source": [],
      "metadata": {
        "id": "yxJYF1_DvqAZ"
      }
    },
    {
      "cell_type": "markdown",
      "source": [
        "Q 6  Write a code to create a list with numbers 1 to 5 and print it."
      ],
      "metadata": {
        "id": "ukwYNexpx5Bs"
      }
    },
    {
      "cell_type": "code",
      "source": [
        "r1 = 1 # range 1\n",
        "r2 = 5 # range 2\n",
        "\n",
        "li = list(range(r1,r2))\n",
        "print(li)"
      ],
      "metadata": {
        "colab": {
          "base_uri": "https://localhost:8080/"
        },
        "id": "MxX3KqlhyBIx",
        "outputId": "4929d394-40db-4f22-b017-17e3a3b70c66"
      },
      "execution_count": null,
      "outputs": [
        {
          "output_type": "stream",
          "name": "stdout",
          "text": [
            "[1, 2, 3, 4]\n"
          ]
        }
      ]
    },
    {
      "cell_type": "markdown",
      "source": [
        "Q 7  Write a code to append the number 10 to the list [1, 2, 3, 4]"
      ],
      "metadata": {
        "id": "KvjBN9Kvo00J"
      }
    },
    {
      "cell_type": "code",
      "source": [
        ">>> x = [1, 2, 3, 4]\n",
        ">>> y = (10)\n",
        "\n",
        ">>> x.append(y)\n",
        ">>> x\n"
      ],
      "metadata": {
        "colab": {
          "base_uri": "https://localhost:8080/"
        },
        "id": "xSc3r-cppKe1",
        "outputId": "7e1592e3-44ea-42ce-f3b7-755b9f28683b"
      },
      "execution_count": 1,
      "outputs": [
        {
          "output_type": "execute_result",
          "data": {
            "text/plain": [
              "[1, 2, 3, 4, 10]"
            ]
          },
          "metadata": {},
          "execution_count": 1
        }
      ]
    },
    {
      "cell_type": "markdown",
      "source": [],
      "metadata": {
        "id": "S4Re12quyTL0"
      }
    },
    {
      "cell_type": "markdown",
      "source": [
        "Q 8  Write a code to remove the number 3 from the list [1, 2, 3, 4, 5]\n"
      ],
      "metadata": {
        "id": "pSytA_hwpYhv"
      }
    },
    {
      "cell_type": "code",
      "source": [
        "my_list = [1, 2, 3, 4]\n",
        "\n",
        "my_list.remove(3)\n",
        "\n",
        "print(my_list)"
      ],
      "metadata": {
        "colab": {
          "base_uri": "https://localhost:8080/"
        },
        "id": "uWMdUEvEpcR9",
        "outputId": "6265fd70-3ec8-4c09-91ea-28d5add5cbd5"
      },
      "execution_count": 3,
      "outputs": [
        {
          "output_type": "stream",
          "name": "stdout",
          "text": [
            "[1, 2, 4]\n"
          ]
        }
      ]
    },
    {
      "cell_type": "markdown",
      "source": [
        " Q 9 Write a code to access the second element in the list ['a', 'b', 'c', 'd']"
      ],
      "metadata": {
        "id": "5--z9BuZqa7C"
      }
    },
    {
      "cell_type": "code",
      "source": [
        "my_list = ['a', 'b', 'c', 'd']\n",
        "second_element = my_list[1]\n",
        "print(second_element)"
      ],
      "metadata": {
        "colab": {
          "base_uri": "https://localhost:8080/"
        },
        "id": "xhDpC8DcqkKI",
        "outputId": "1c8af5b4-4630-40d7-a622-4f790b290ee0"
      },
      "execution_count": 4,
      "outputs": [
        {
          "output_type": "stream",
          "name": "stdout",
          "text": [
            "b\n"
          ]
        }
      ]
    },
    {
      "cell_type": "markdown",
      "source": [
        "Q 10 Write a code to reverse the list [10, 20, 30, 40, 50]."
      ],
      "metadata": {
        "id": "LHTG4je8q7bF"
      }
    },
    {
      "cell_type": "code",
      "source": [
        "a = [10,20,30,40,50]\n",
        "rev = a[::-1]\n",
        "\n",
        "print(rev)"
      ],
      "metadata": {
        "colab": {
          "base_uri": "https://localhost:8080/"
        },
        "id": "Ro1bjFDPrLWh",
        "outputId": "135b1982-2272-46cb-90b5-8e7f4a67da72"
      },
      "execution_count": 5,
      "outputs": [
        {
          "output_type": "stream",
          "name": "stdout",
          "text": [
            "[50, 40, 30, 20, 10]\n"
          ]
        }
      ]
    },
    {
      "cell_type": "markdown",
      "source": [
        "Q 11 Write a code to create a tuple with the elements 100, 200, 300 and print it."
      ],
      "metadata": {
        "id": "8wo7belJrfZh"
      }
    },
    {
      "cell_type": "code",
      "source": [
        "my_tuple = (100, 200, 300)\n",
        "print(my_tuple)"
      ],
      "metadata": {
        "colab": {
          "base_uri": "https://localhost:8080/"
        },
        "id": "mjTrgG0hrrpW",
        "outputId": "34865d9e-fda5-4bd7-de96-794321ea4506"
      },
      "execution_count": 6,
      "outputs": [
        {
          "output_type": "stream",
          "name": "stdout",
          "text": [
            "(100, 200, 300)\n"
          ]
        }
      ]
    },
    {
      "cell_type": "markdown",
      "source": [
        "Q 12  Write a code to access the second-to-last element of the tuple ('red', 'green', 'blue', 'yellow')."
      ],
      "metadata": {
        "id": "x-UNbGOyr-Zc"
      }
    },
    {
      "cell_type": "code",
      "source": [
        "my_tuple = ('red', 'green', 'blue', 'yellow')\n",
        "second_to_last = my_tuple[-2]\n",
        "print(second_to_last)"
      ],
      "metadata": {
        "colab": {
          "base_uri": "https://localhost:8080/"
        },
        "id": "Fr0FXQNksMq6",
        "outputId": "22461329-32ba-4955-8237-ce6ca05f1235"
      },
      "execution_count": 7,
      "outputs": [
        {
          "output_type": "stream",
          "name": "stdout",
          "text": [
            "blue\n"
          ]
        }
      ]
    },
    {
      "cell_type": "markdown",
      "source": [
        "Q 13 Write a code to find the minimum number in the tuple (10, 20, 5, 15)"
      ],
      "metadata": {
        "id": "ba3V7M4Jsd0h"
      }
    },
    {
      "cell_type": "code",
      "source": [
        "my_tuple = (10, 20, 5, 15)\n",
        "min_number = min(my_tuple)\n",
        "print(min_number)"
      ],
      "metadata": {
        "colab": {
          "base_uri": "https://localhost:8080/"
        },
        "id": "Ox3OzRUss0mM",
        "outputId": "107b801a-8b90-4023-aa11-3a70e9055af0"
      },
      "execution_count": 8,
      "outputs": [
        {
          "output_type": "stream",
          "name": "stdout",
          "text": [
            "5\n"
          ]
        }
      ]
    },
    {
      "cell_type": "markdown",
      "source": [
        "Q 14  Write a code to find the index of the element \"cat\" in the tuple ('dog', 'cat', 'rabbit')."
      ],
      "metadata": {
        "id": "0IO6TTYYtC-u"
      }
    },
    {
      "cell_type": "code",
      "source": [
        "animals = ('dog', 'cat', 'rabbit')\n",
        "cat_index = animals.index('cat')\n",
        "print(cat_index)"
      ],
      "metadata": {
        "colab": {
          "base_uri": "https://localhost:8080/"
        },
        "id": "RlBlZSUMtF-F",
        "outputId": "62b9214a-d0ed-4d97-9994-323671feb954"
      },
      "execution_count": 13,
      "outputs": [
        {
          "output_type": "stream",
          "name": "stdout",
          "text": [
            "1\n"
          ]
        }
      ]
    },
    {
      "cell_type": "markdown",
      "source": [
        "Q 15  Write a code to create a tuple containing three different fruits and check if \"kiwi\" is in it."
      ],
      "metadata": {
        "id": "5YnLOTeIuHd_"
      }
    },
    {
      "cell_type": "code",
      "source": [
        "fruits= [\"apple\", \"kiwi\", \"cherry\"]\n",
        "if \"kiwi\" in fruits:\n",
        "   print(\"Yes, 'kiwi' is in the fruits list\")"
      ],
      "metadata": {
        "colab": {
          "base_uri": "https://localhost:8080/"
        },
        "id": "3PbvHyunu1je",
        "outputId": "b5fdd4c8-d3b0-4450-94c7-10e212c2845d"
      },
      "execution_count": 14,
      "outputs": [
        {
          "output_type": "stream",
          "name": "stdout",
          "text": [
            "Yes, 'kiwi' is in the fruits list\n"
          ]
        }
      ]
    },
    {
      "cell_type": "markdown",
      "source": [
        "Q 16  Write a code to create a set with the elements 'a', 'b', 'c' and print it."
      ],
      "metadata": {
        "id": "v4euhP2JvM4I"
      }
    },
    {
      "cell_type": "code",
      "source": [
        "my_set = {'a', 'b', 'c'}\n",
        "print(my_set)\n"
      ],
      "metadata": {
        "colab": {
          "base_uri": "https://localhost:8080/"
        },
        "id": "N8B0X4awvQF0",
        "outputId": "bf718f32-5a86-41a9-f9c1-5f7bd1f5098a"
      },
      "execution_count": 16,
      "outputs": [
        {
          "output_type": "stream",
          "name": "stdout",
          "text": [
            "{'c', 'a', 'b'}\n"
          ]
        }
      ]
    },
    {
      "cell_type": "markdown",
      "source": [
        "Q 17 Write a code to clear all elements from the set {1, 2, 3, 4, 5}."
      ],
      "metadata": {
        "id": "pdizGdMKvtQV"
      }
    },
    {
      "cell_type": "code",
      "source": [
        "my_set = {1, 2, 3, 4, 5}\n",
        "my_set.clear()\n",
        "print(my_set)"
      ],
      "metadata": {
        "colab": {
          "base_uri": "https://localhost:8080/"
        },
        "id": "jJdAfil0v0n7",
        "outputId": "ea146f95-db39-46c5-9536-c8c2ed2943b8"
      },
      "execution_count": 17,
      "outputs": [
        {
          "output_type": "stream",
          "name": "stdout",
          "text": [
            "set()\n"
          ]
        }
      ]
    },
    {
      "cell_type": "markdown",
      "source": [
        "Q 18 Write a code to remove the element 4 from the set {1, 2, 3, 4}."
      ],
      "metadata": {
        "id": "xTyV9viZv7_f"
      }
    },
    {
      "cell_type": "code",
      "source": [
        "my_set = {1, 2, 3, 4}\n",
        "my_set.remove(4)\n",
        "print(my_set)"
      ],
      "metadata": {
        "colab": {
          "base_uri": "https://localhost:8080/"
        },
        "id": "BqNa5EaBwH-H",
        "outputId": "21e15d7a-6e79-4391-9bf0-a50b901017c1"
      },
      "execution_count": 18,
      "outputs": [
        {
          "output_type": "stream",
          "name": "stdout",
          "text": [
            "{1, 2, 3}\n"
          ]
        }
      ]
    },
    {
      "cell_type": "markdown",
      "source": [
        "Q 19 Write a code to find the union of two sets {1, 2, 3} and {3, 4, 5}."
      ],
      "metadata": {
        "id": "ysWpN89xwQDR"
      }
    },
    {
      "cell_type": "code",
      "source": [
        "A = {1,2,3}\n",
        "B = {3, 4, 5}\n",
        "\n",
        "print('A U B = ', A.union(B))"
      ],
      "metadata": {
        "colab": {
          "base_uri": "https://localhost:8080/"
        },
        "id": "fKqTqwePwbn4",
        "outputId": "da59dabf-d793-408e-af1f-7066171a3f29"
      },
      "execution_count": 19,
      "outputs": [
        {
          "output_type": "stream",
          "name": "stdout",
          "text": [
            "A U B =  {1, 2, 3, 4, 5}\n"
          ]
        }
      ]
    },
    {
      "cell_type": "markdown",
      "source": [
        "Q 20  Write a code to find the intersection of two sets {1, 2, 3} and {2, 3, 4}."
      ],
      "metadata": {
        "id": "sa0Rjy88w30p"
      }
    },
    {
      "cell_type": "code",
      "source": [
        "A = {1,2,3}\n",
        "B = {2, 3, 4}\n",
        "print(A.intersection(B))"
      ],
      "metadata": {
        "colab": {
          "base_uri": "https://localhost:8080/"
        },
        "id": "AWAHTGIQw9kE",
        "outputId": "79d08410-0506-4b03-dcb7-45336990c6cc"
      },
      "execution_count": 23,
      "outputs": [
        {
          "output_type": "stream",
          "name": "stdout",
          "text": [
            "{2, 3}\n"
          ]
        }
      ]
    },
    {
      "cell_type": "markdown",
      "source": [
        "Q 21 Write a code to create a dictionary with the keys \"name\", \"age\", and \"city\", and print it."
      ],
      "metadata": {
        "id": "2T1K20j-ygXj"
      }
    },
    {
      "cell_type": "code",
      "source": [
        "my_information = dict({'name': 'Dhaval' ,'age': 30,'location': 'Vadodara'})\n",
        "print(my_information)\n",
        "print(type(my_information))"
      ],
      "metadata": {
        "colab": {
          "base_uri": "https://localhost:8080/"
        },
        "id": "Jv670TWkyvaQ",
        "outputId": "4d3634fe-b610-4739-bb84-b25a51a77e84"
      },
      "execution_count": 27,
      "outputs": [
        {
          "output_type": "stream",
          "name": "stdout",
          "text": [
            "{'name': 'Dhaval', 'age': 30, 'location': 'Vadodara'}\n",
            "<class 'dict'>\n"
          ]
        }
      ]
    },
    {
      "cell_type": "markdown",
      "source": [
        "Q 22 Write a code to add a new key-value pair \"country\": \"USA\" to the dictionary {'name': 'John', 'age': 25}\n"
      ],
      "metadata": {
        "id": "_-4XZ2Zo0AKC"
      }
    },
    {
      "cell_type": "code",
      "source": [
        "dict_list = [\n",
        "    {\"name\": \"John\", \"age\": 25},\n",
        "    { \"country\": \"USA\"}]\n",
        "\n",
        "updated_dict = {key: value for dictionary in dict_list for key, value in dictionary.items()}\n",
        "\n",
        "\n",
        "print(\"Updated Dictionary:\", updated_dict)"
      ],
      "metadata": {
        "colab": {
          "base_uri": "https://localhost:8080/"
        },
        "id": "PY5vAAGH3Gx_",
        "outputId": "874acc6e-6cb2-47af-f661-a9972c66fa46"
      },
      "execution_count": 41,
      "outputs": [
        {
          "output_type": "stream",
          "name": "stdout",
          "text": [
            "Updated Dictionary: {'name': 'John', 'age': 25, 'country': 'USA'}\n"
          ]
        }
      ]
    },
    {
      "cell_type": "markdown",
      "source": [
        "Q 23 Write a code to access the value associated with the key \"name\" in the dictionary {'name': 'Alice', 'age': 30}."
      ],
      "metadata": {
        "id": "DwB4Tj4p3ZwK"
      }
    },
    {
      "cell_type": "code",
      "source": [
        "my_dict = {'name': 'Alice', 'age': 30}\n",
        "name_value = my_dict['name']\n",
        "print(name_value)"
      ],
      "metadata": {
        "colab": {
          "base_uri": "https://localhost:8080/"
        },
        "id": "Nco2jSw23idp",
        "outputId": "0a837bde-32d6-4658-c141-fec8555bf021"
      },
      "execution_count": 42,
      "outputs": [
        {
          "output_type": "stream",
          "name": "stdout",
          "text": [
            "Alice\n"
          ]
        }
      ]
    },
    {
      "cell_type": "markdown",
      "source": [
        "Q 24  Write a code to remove the key \"age\" from the dictionary {'name': 'Bob', 'age': 22, 'city': 'New York'}."
      ],
      "metadata": {
        "id": "I68vfg8S6Ryo"
      }
    },
    {
      "cell_type": "code",
      "source": [
        "my_dict = {\"name\": \"Bob\", \"age\": 22, \"city\": \"New York\"}\n",
        "del my_dict[\"age\"]\n",
        "print(my_dict)"
      ],
      "metadata": {
        "colab": {
          "base_uri": "https://localhost:8080/"
        },
        "id": "QGBWta2U6kqI",
        "outputId": "4be3c9dc-3af5-4ae4-a15b-3d9066903e96"
      },
      "execution_count": 44,
      "outputs": [
        {
          "output_type": "stream",
          "name": "stdout",
          "text": [
            "{'name': 'Bob', 'city': 'New York'}\n"
          ]
        }
      ]
    },
    {
      "cell_type": "markdown",
      "source": [
        "Q 25 rite a code to check if the key \"city\" exists in the dictionary {'name': 'Alice', 'city': 'Paris'}."
      ],
      "metadata": {
        "id": "xtlugGWb73sl"
      }
    },
    {
      "cell_type": "code",
      "source": [
        "my_dict={'name': 'Alice', 'city': 'Paris'}\n",
        "if \"city\" in my_dict:\n",
        "   print(\"Yes, 'city' is in the list\")\n",
        "\n",
        "\n"
      ],
      "metadata": {
        "colab": {
          "base_uri": "https://localhost:8080/"
        },
        "id": "l4EVyxwU8HK4",
        "outputId": "bb0a6933-bd52-488d-9acc-b0384a10116e"
      },
      "execution_count": 45,
      "outputs": [
        {
          "output_type": "stream",
          "name": "stdout",
          "text": [
            "Yes, 'city' is in the list\n"
          ]
        }
      ]
    },
    {
      "cell_type": "markdown",
      "source": [
        "Q 26  Write a code to create a list, a tuple, and a dictionary, and print them all"
      ],
      "metadata": {
        "id": "SRU-mQkB88zs"
      }
    },
    {
      "cell_type": "code",
      "source": [
        "list1 = [1 , 2, 'abc', 3, 'def']\n",
        "print(list1)\n",
        "\n",
        "tuple1 = (1, 2, 'abc', 3, 4)\n",
        "print(tuple1)\n",
        "\n",
        "dict1 = {\"1\": \"2\", \"3\": \"4\"}\n",
        "print(dict1)"
      ],
      "metadata": {
        "colab": {
          "base_uri": "https://localhost:8080/"
        },
        "id": "IvkcHFIW9Dwt",
        "outputId": "e0384810-8287-4b60-c27f-d82c54fb4372"
      },
      "execution_count": 46,
      "outputs": [
        {
          "output_type": "stream",
          "name": "stdout",
          "text": [
            "[1, 2, 'abc', 3, 'def']\n",
            "(1, 2, 'abc', 3, 4)\n",
            "{'1': '2', '3': '4'}\n"
          ]
        }
      ]
    },
    {
      "cell_type": "markdown",
      "source": [
        "Q 27 Write a code to create a list of 5 random numbers between 1 and 100, sort it in ascending order, and print the\n",
        "result.(replaced)"
      ],
      "metadata": {
        "id": "VqfpuJF0_HU6"
      }
    },
    {
      "cell_type": "code",
      "source": [
        "import random\n",
        "\n",
        "\n",
        "random_numbers = [random.randint(1, 100) for _ in range(5)]\n",
        "\n",
        "\n",
        "random_numbers.sort()\n",
        "\n",
        "\n",
        "print(random_numbers)"
      ],
      "metadata": {
        "colab": {
          "base_uri": "https://localhost:8080/"
        },
        "id": "ECuBNCgO_M2R",
        "outputId": "3c82b426-6e1e-4285-bfa1-629bf68a6573"
      },
      "execution_count": 47,
      "outputs": [
        {
          "output_type": "stream",
          "name": "stdout",
          "text": [
            "[6, 15, 41, 45, 49]\n"
          ]
        }
      ]
    },
    {
      "cell_type": "markdown",
      "source": [
        "Q 28 Write a code to create a list with strings and print the element at the third index."
      ],
      "metadata": {
        "id": "I5jabwEF_w2O"
      }
    },
    {
      "cell_type": "code",
      "source": [
        "my_list = [\"apple\", \"banana\", \"cherry\", \"date\"]\n",
        "print(my_list[2])\n"
      ],
      "metadata": {
        "colab": {
          "base_uri": "https://localhost:8080/"
        },
        "id": "C3GjdoLe_0Al",
        "outputId": "7310b41d-6d18-461a-bffe-b05b1960d52f"
      },
      "execution_count": 49,
      "outputs": [
        {
          "output_type": "stream",
          "name": "stdout",
          "text": [
            "cherry\n"
          ]
        }
      ]
    },
    {
      "cell_type": "markdown",
      "source": [
        "Q 29  Write a code to combine two dictionaries into one and print the result.\n"
      ],
      "metadata": {
        "id": "i-MRVA56AP4k"
      }
    },
    {
      "cell_type": "code",
      "source": [
        "d1 = {'x': 1, 'y': 2}\n",
        "d2 = {'y': 3, 'z': 4}\n",
        "\n",
        "d1.update(d2)\n",
        "print(d1)"
      ],
      "metadata": {
        "colab": {
          "base_uri": "https://localhost:8080/"
        },
        "id": "ze64-IpzAZt5",
        "outputId": "01803fa4-1761-4ce2-c6d9-9b14268213b5"
      },
      "execution_count": 50,
      "outputs": [
        {
          "output_type": "stream",
          "name": "stdout",
          "text": [
            "{'x': 1, 'y': 3, 'z': 4}\n"
          ]
        }
      ]
    },
    {
      "cell_type": "markdown",
      "source": [
        "Q 30  Write a code to convert a list of strings into a set."
      ],
      "metadata": {
        "id": "ikt6nzA1AfYb"
      }
    },
    {
      "cell_type": "code",
      "source": [
        "s = \"dhaval\"\n",
        "\n",
        "print(type(s))\n",
        "print(s)\n",
        "\n",
        "\n",
        "set_s = set(s)\n",
        "\n",
        "print(type(set_s))\n",
        "print(set_s)"
      ],
      "metadata": {
        "colab": {
          "base_uri": "https://localhost:8080/"
        },
        "id": "-9YCywxSAsp1",
        "outputId": "ac018ae8-e5cb-4a50-cd47-ab7308018059"
      },
      "execution_count": 51,
      "outputs": [
        {
          "output_type": "stream",
          "name": "stdout",
          "text": [
            "<class 'str'>\n",
            "dhaval\n",
            "<class 'set'>\n",
            "{'a', 'v', 'd', 'l', 'h'}\n"
          ]
        }
      ]
    }
  ]
}